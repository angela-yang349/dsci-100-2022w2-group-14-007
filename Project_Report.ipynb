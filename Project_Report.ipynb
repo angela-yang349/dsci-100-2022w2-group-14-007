{
 "cells": [
  {
   "cell_type": "markdown",
   "id": "3eb51a34-7044-4557-86e0-6e9a091b5a31",
   "metadata": {},
   "source": [
    "# Predicting the Risk of Diabetes in Pregnant Women"
   ]
  },
  {
   "cell_type": "markdown",
   "id": "bd66d94d-2051-4d67-97b1-6667b0c50fa2",
   "metadata": {},
   "source": [
    "Authors: \n",
    "- Angela Yang\n",
    "- Tina Chen\n",
    "- Tom Cui \n",
    "- Yiyang Zhang"
   ]
  },
  {
   "cell_type": "code",
   "execution_count": null,
   "id": "ecf6c41b-30f1-4ad7-a691-0940b487d964",
   "metadata": {},
   "outputs": [],
   "source": []
  }
 ],
 "metadata": {
  "kernelspec": {
   "display_name": "R",
   "language": "R",
   "name": "ir"
  },
  "language_info": {
   "codemirror_mode": "r",
   "file_extension": ".r",
   "mimetype": "text/x-r-source",
   "name": "R",
   "pygments_lexer": "r",
   "version": "4.1.3"
  }
 },
 "nbformat": 4,
 "nbformat_minor": 5
}
