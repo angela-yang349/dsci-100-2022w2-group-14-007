{
 "cells": [
  {
   "cell_type": "markdown",
   "id": "3eb51a34-7044-4557-86e0-6e9a091b5a31",
   "metadata": {},
   "source": [
    "# Predicting the Risk of Diabetes in Pregnant Women"
   ]
  },
  {
   "cell_type": "markdown",
   "id": "bd66d94d-2051-4d67-97b1-6667b0c50fa2",
   "metadata": {},
   "source": [
    "Authors: \n",
    "- Angela Yang\n",
    "- Tina Chen\n",
    "- Tom Cui \n",
    "- Yiyang Zhang"
   ]
  },
  {
   "cell_type": "markdown",
   "id": "7d75566e-12bd-4b08-9fd8-34ff548adc82",
   "metadata": {},
   "source": [
    "### Introduction: ###\n",
    "\n",
    "Diabetes is a chronic health condition where blood glucose is unable to enter cells due to the lack of insulin facilitating this exchange (NIDDK, 2016). With diabetes being one of the top causes of death in North America (CDC, 2022), the need to determine the best health indicators becomes increasingly important for the correct diagnosis of diabetes. This study uses a dataset from Kaggle, originally from the National Institute of Diabetes and Digestive and Kidney Diseases, showing a variety of health indicators (e.g. blood pressure, Body Mass Index/BMI, glucose, insulin) and whether they were diagnosed with diabetes. \n",
    "\n",
    "For our project, we will try to answer this predictive question: Given the health profile of a patient, how accurate can our classification model predict potential diabetes cases based on the selected explanatory variables?"
   ]
  },
  {
   "cell_type": "markdown",
   "id": "b2a2b4bc-d372-4a25-9b0c-9794088f8609",
   "metadata": {},
   "source": [
    "### Methods: ###"
   ]
  },
  {
   "cell_type": "code",
   "execution_count": null,
   "id": "1687b6c3-94a4-4677-918f-5d5f628ea5b2",
   "metadata": {},
   "outputs": [],
   "source": []
  }
 ],
 "metadata": {
  "kernelspec": {
   "display_name": "R",
   "language": "R",
   "name": "ir"
  },
  "language_info": {
   "codemirror_mode": "r",
   "file_extension": ".r",
   "mimetype": "text/x-r-source",
   "name": "R",
   "pygments_lexer": "r",
   "version": "4.1.3"
  }
 },
 "nbformat": 4,
 "nbformat_minor": 5
}
