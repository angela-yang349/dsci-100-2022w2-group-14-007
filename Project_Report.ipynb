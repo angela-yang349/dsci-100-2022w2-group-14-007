{
 "cells": [
  {
   "cell_type": "markdown",
   "id": "043e59cc",
   "metadata": {},
   "source": [
    "# Predicting the Risk of Diabetes in Pregnant Women"
   ]
  },
  {
   "cell_type": "markdown",
   "id": "a8d4d86e",
   "metadata": {},
   "source": [
    "Authors: \n",
    "- Angela Yang\n",
    "- Tina Chen\n",
    "- Tom Cui \n",
    "- Yiyang Zhang"
   ]
  },
  {
   "cell_type": "markdown",
   "id": "97b2e9b0",
   "metadata": {},
   "source": [
    "### Introduction: ###\n",
    "\n",
    "Diabetes is a chronic health condition where blood glucose is unable to enter cells due to the lack of insulin facilitating this exchange (NIDDK, 2016). With diabetes being one of the top causes of death in North America (CDC, 2022), the need to determine the best health indicators becomes increasingly important for the correct diagnosis of diabetes. This study uses a dataset from Kaggle, originally from the National Institute of Diabetes and Digestive and Kidney Diseases, showing a variety of health indicators (e.g. blood pressure, Body Mass Index/BMI, glucose, insulin) and whether they were diagnosed with diabetes. \n",
    "\n",
    "For our project, we will try to answer this predictive question: Given the health profile of a patient, how accurate can our classification model predict potential diabetes cases based on the selected explanatory variables?"
   ]
  },
  {
   "cell_type": "code",
   "execution_count": 2,
   "id": "48ea022e",
   "metadata": {},
   "outputs": [
    {
     "name": "stderr",
     "output_type": "stream",
     "text": [
      "── \u001b[1mAttaching packages\u001b[22m ─────────────────────────────────────── tidyverse 1.3.1 ──\n",
      "\n",
      "\u001b[32m✔\u001b[39m \u001b[34mggplot2\u001b[39m 3.3.6     \u001b[32m✔\u001b[39m \u001b[34mpurrr  \u001b[39m 0.3.4\n",
      "\u001b[32m✔\u001b[39m \u001b[34mtibble \u001b[39m 3.1.7     \u001b[32m✔\u001b[39m \u001b[34mdplyr  \u001b[39m 1.0.9\n",
      "\u001b[32m✔\u001b[39m \u001b[34mtidyr  \u001b[39m 1.2.0     \u001b[32m✔\u001b[39m \u001b[34mstringr\u001b[39m 1.4.0\n",
      "\u001b[32m✔\u001b[39m \u001b[34mreadr  \u001b[39m 2.1.2     \u001b[32m✔\u001b[39m \u001b[34mforcats\u001b[39m 0.5.1\n",
      "\n",
      "── \u001b[1mConflicts\u001b[22m ────────────────────────────────────────── tidyverse_conflicts() ──\n",
      "\u001b[31m✖\u001b[39m \u001b[34mdplyr\u001b[39m::\u001b[32mfilter()\u001b[39m masks \u001b[34mstats\u001b[39m::filter()\n",
      "\u001b[31m✖\u001b[39m \u001b[34mdplyr\u001b[39m::\u001b[32mlag()\u001b[39m    masks \u001b[34mstats\u001b[39m::lag()\n",
      "\n",
      "── \u001b[1mAttaching packages\u001b[22m ────────────────────────────────────── tidymodels 1.0.0 ──\n",
      "\n",
      "\u001b[32m✔\u001b[39m \u001b[34mbroom       \u001b[39m 1.0.0     \u001b[32m✔\u001b[39m \u001b[34mrsample     \u001b[39m 1.0.0\n",
      "\u001b[32m✔\u001b[39m \u001b[34mdials       \u001b[39m 1.0.0     \u001b[32m✔\u001b[39m \u001b[34mtune        \u001b[39m 1.0.0\n",
      "\u001b[32m✔\u001b[39m \u001b[34minfer       \u001b[39m 1.0.2     \u001b[32m✔\u001b[39m \u001b[34mworkflows   \u001b[39m 1.0.0\n",
      "\u001b[32m✔\u001b[39m \u001b[34mmodeldata   \u001b[39m 1.0.0     \u001b[32m✔\u001b[39m \u001b[34mworkflowsets\u001b[39m 1.0.0\n",
      "\u001b[32m✔\u001b[39m \u001b[34mparsnip     \u001b[39m 1.0.0     \u001b[32m✔\u001b[39m \u001b[34myardstick   \u001b[39m 1.0.0\n",
      "\u001b[32m✔\u001b[39m \u001b[34mrecipes     \u001b[39m 1.0.1     \n",
      "\n",
      "── \u001b[1mConflicts\u001b[22m ───────────────────────────────────────── tidymodels_conflicts() ──\n",
      "\u001b[31m✖\u001b[39m \u001b[34mscales\u001b[39m::\u001b[32mdiscard()\u001b[39m masks \u001b[34mpurrr\u001b[39m::discard()\n",
      "\u001b[31m✖\u001b[39m \u001b[34mdplyr\u001b[39m::\u001b[32mfilter()\u001b[39m   masks \u001b[34mstats\u001b[39m::filter()\n",
      "\u001b[31m✖\u001b[39m \u001b[34mrecipes\u001b[39m::\u001b[32mfixed()\u001b[39m  masks \u001b[34mstringr\u001b[39m::fixed()\n",
      "\u001b[31m✖\u001b[39m \u001b[34mdplyr\u001b[39m::\u001b[32mlag()\u001b[39m      masks \u001b[34mstats\u001b[39m::lag()\n",
      "\u001b[31m✖\u001b[39m \u001b[34myardstick\u001b[39m::\u001b[32mspec()\u001b[39m masks \u001b[34mreadr\u001b[39m::spec()\n",
      "\u001b[31m✖\u001b[39m \u001b[34mrecipes\u001b[39m::\u001b[32mstep()\u001b[39m   masks \u001b[34mstats\u001b[39m::step()\n",
      "\u001b[34m•\u001b[39m Use suppressPackageStartupMessages() to eliminate package startup messages\n",
      "\n",
      "\n",
      "Attaching package: ‘gridExtra’\n",
      "\n",
      "\n",
      "The following object is masked from ‘package:dplyr’:\n",
      "\n",
      "    combine\n",
      "\n",
      "\n"
     ]
    }
   ],
   "source": [
    "library(tidyverse)\n",
    "library(repr)\n",
    "library(tidymodels)\n",
    "library(gridExtra)"
   ]
  },
  {
   "cell_type": "code",
   "execution_count": 6,
   "id": "2707c132",
   "metadata": {},
   "outputs": [
    {
     "name": "stderr",
     "output_type": "stream",
     "text": [
      "\u001b[1mRows: \u001b[22m\u001b[34m768\u001b[39m \u001b[1mColumns: \u001b[22m\u001b[34m9\u001b[39m\n",
      "\u001b[36m──\u001b[39m \u001b[1mColumn specification\u001b[22m \u001b[36m────────────────────────────────────────────────────────\u001b[39m\n",
      "\u001b[1mDelimiter:\u001b[22m \",\"\n",
      "\u001b[32mdbl\u001b[39m (9): Pregnancies, Glucose, BloodPressure, SkinThickness, Insulin, BMI, D...\n",
      "\n",
      "\u001b[36mℹ\u001b[39m Use `spec()` to retrieve the full column specification for this data.\n",
      "\u001b[36mℹ\u001b[39m Specify the column types or set `show_col_types = FALSE` to quiet this message.\n"
     ]
    },
    {
     "data": {
      "text/html": [
       "<table class=\"dataframe\">\n",
       "<caption>A tibble: 6 × 9</caption>\n",
       "<thead>\n",
       "\t<tr><th scope=col>Pregnancies</th><th scope=col>Glucose</th><th scope=col>BloodPressure</th><th scope=col>SkinThickness</th><th scope=col>Insulin</th><th scope=col>BMI</th><th scope=col>DiabetesPedigreeFunction</th><th scope=col>Age</th><th scope=col>Outcome</th></tr>\n",
       "\t<tr><th scope=col>&lt;dbl&gt;</th><th scope=col>&lt;dbl&gt;</th><th scope=col>&lt;dbl&gt;</th><th scope=col>&lt;dbl&gt;</th><th scope=col>&lt;dbl&gt;</th><th scope=col>&lt;dbl&gt;</th><th scope=col>&lt;dbl&gt;</th><th scope=col>&lt;dbl&gt;</th><th scope=col>&lt;dbl&gt;</th></tr>\n",
       "</thead>\n",
       "<tbody>\n",
       "\t<tr><td>6</td><td>148</td><td>72</td><td>35</td><td>  0</td><td>33.6</td><td>0.627</td><td>50</td><td>1</td></tr>\n",
       "\t<tr><td>1</td><td> 85</td><td>66</td><td>29</td><td>  0</td><td>26.6</td><td>0.351</td><td>31</td><td>0</td></tr>\n",
       "\t<tr><td>8</td><td>183</td><td>64</td><td> 0</td><td>  0</td><td>23.3</td><td>0.672</td><td>32</td><td>1</td></tr>\n",
       "\t<tr><td>1</td><td> 89</td><td>66</td><td>23</td><td> 94</td><td>28.1</td><td>0.167</td><td>21</td><td>0</td></tr>\n",
       "\t<tr><td>0</td><td>137</td><td>40</td><td>35</td><td>168</td><td>43.1</td><td>2.288</td><td>33</td><td>1</td></tr>\n",
       "\t<tr><td>5</td><td>116</td><td>74</td><td> 0</td><td>  0</td><td>25.6</td><td>0.201</td><td>30</td><td>0</td></tr>\n",
       "</tbody>\n",
       "</table>\n"
      ],
      "text/latex": [
       "A tibble: 6 × 9\n",
       "\\begin{tabular}{lllllllll}\n",
       " Pregnancies & Glucose & BloodPressure & SkinThickness & Insulin & BMI & DiabetesPedigreeFunction & Age & Outcome\\\\\n",
       " <dbl> & <dbl> & <dbl> & <dbl> & <dbl> & <dbl> & <dbl> & <dbl> & <dbl>\\\\\n",
       "\\hline\n",
       "\t 6 & 148 & 72 & 35 &   0 & 33.6 & 0.627 & 50 & 1\\\\\n",
       "\t 1 &  85 & 66 & 29 &   0 & 26.6 & 0.351 & 31 & 0\\\\\n",
       "\t 8 & 183 & 64 &  0 &   0 & 23.3 & 0.672 & 32 & 1\\\\\n",
       "\t 1 &  89 & 66 & 23 &  94 & 28.1 & 0.167 & 21 & 0\\\\\n",
       "\t 0 & 137 & 40 & 35 & 168 & 43.1 & 2.288 & 33 & 1\\\\\n",
       "\t 5 & 116 & 74 &  0 &   0 & 25.6 & 0.201 & 30 & 0\\\\\n",
       "\\end{tabular}\n"
      ],
      "text/markdown": [
       "\n",
       "A tibble: 6 × 9\n",
       "\n",
       "| Pregnancies &lt;dbl&gt; | Glucose &lt;dbl&gt; | BloodPressure &lt;dbl&gt; | SkinThickness &lt;dbl&gt; | Insulin &lt;dbl&gt; | BMI &lt;dbl&gt; | DiabetesPedigreeFunction &lt;dbl&gt; | Age &lt;dbl&gt; | Outcome &lt;dbl&gt; |\n",
       "|---|---|---|---|---|---|---|---|---|\n",
       "| 6 | 148 | 72 | 35 |   0 | 33.6 | 0.627 | 50 | 1 |\n",
       "| 1 |  85 | 66 | 29 |   0 | 26.6 | 0.351 | 31 | 0 |\n",
       "| 8 | 183 | 64 |  0 |   0 | 23.3 | 0.672 | 32 | 1 |\n",
       "| 1 |  89 | 66 | 23 |  94 | 28.1 | 0.167 | 21 | 0 |\n",
       "| 0 | 137 | 40 | 35 | 168 | 43.1 | 2.288 | 33 | 1 |\n",
       "| 5 | 116 | 74 |  0 |   0 | 25.6 | 0.201 | 30 | 0 |\n",
       "\n"
      ],
      "text/plain": [
       "  Pregnancies Glucose BloodPressure SkinThickness Insulin BMI \n",
       "1 6           148     72            35              0     33.6\n",
       "2 1            85     66            29              0     26.6\n",
       "3 8           183     64             0              0     23.3\n",
       "4 1            89     66            23             94     28.1\n",
       "5 0           137     40            35            168     43.1\n",
       "6 5           116     74             0              0     25.6\n",
       "  DiabetesPedigreeFunction Age Outcome\n",
       "1 0.627                    50  1      \n",
       "2 0.351                    31  0      \n",
       "3 0.672                    32  1      \n",
       "4 0.167                    21  0      \n",
       "5 2.288                    33  1      \n",
       "6 0.201                    30  0      "
      ]
     },
     "metadata": {},
     "output_type": "display_data"
    }
   ],
   "source": [
    "diabetes_data <- read_csv(\"data/diabetes.csv\")\n",
    "head(diabetes_data)"
   ]
  },
  {
   "cell_type": "code",
   "execution_count": 5,
   "id": "46f4b3d9",
   "metadata": {},
   "outputs": [
    {
     "data": {
      "text/html": [
       "<table class=\"dataframe\">\n",
       "<caption>A tibble: 6 × 9</caption>\n",
       "<thead>\n",
       "\t<tr><th scope=col>Pregnancies</th><th scope=col>Glucose</th><th scope=col>BloodPressure</th><th scope=col>SkinThickness</th><th scope=col>Insulin</th><th scope=col>BMI</th><th scope=col>DiabetesPedigreeFunction</th><th scope=col>Age</th><th scope=col>Outcome</th></tr>\n",
       "\t<tr><th scope=col>&lt;dbl&gt;</th><th scope=col>&lt;dbl&gt;</th><th scope=col>&lt;dbl&gt;</th><th scope=col>&lt;dbl&gt;</th><th scope=col>&lt;dbl&gt;</th><th scope=col>&lt;dbl&gt;</th><th scope=col>&lt;dbl&gt;</th><th scope=col>&lt;dbl&gt;</th><th scope=col>&lt;fct&gt;</th></tr>\n",
       "</thead>\n",
       "<tbody>\n",
       "\t<tr><td>6</td><td>148</td><td>72</td><td>35</td><td>NA</td><td>33.6</td><td>0.627</td><td>50</td><td>1</td></tr>\n",
       "\t<tr><td>1</td><td> 85</td><td>66</td><td>29</td><td>NA</td><td>26.6</td><td>0.351</td><td>31</td><td>0</td></tr>\n",
       "\t<tr><td>8</td><td>183</td><td>64</td><td>NA</td><td>NA</td><td>23.3</td><td>0.672</td><td>32</td><td>1</td></tr>\n",
       "\t<tr><td>1</td><td> 89</td><td>66</td><td>23</td><td>94</td><td>28.1</td><td>0.167</td><td>21</td><td>0</td></tr>\n",
       "\t<tr><td>5</td><td>116</td><td>74</td><td>NA</td><td>NA</td><td>25.6</td><td>0.201</td><td>30</td><td>0</td></tr>\n",
       "\t<tr><td>3</td><td> 78</td><td>50</td><td>32</td><td>88</td><td>31.0</td><td>0.248</td><td>26</td><td>1</td></tr>\n",
       "</tbody>\n",
       "</table>\n"
      ],
      "text/latex": [
       "A tibble: 6 × 9\n",
       "\\begin{tabular}{lllllllll}\n",
       " Pregnancies & Glucose & BloodPressure & SkinThickness & Insulin & BMI & DiabetesPedigreeFunction & Age & Outcome\\\\\n",
       " <dbl> & <dbl> & <dbl> & <dbl> & <dbl> & <dbl> & <dbl> & <dbl> & <fct>\\\\\n",
       "\\hline\n",
       "\t 6 & 148 & 72 & 35 & NA & 33.6 & 0.627 & 50 & 1\\\\\n",
       "\t 1 &  85 & 66 & 29 & NA & 26.6 & 0.351 & 31 & 0\\\\\n",
       "\t 8 & 183 & 64 & NA & NA & 23.3 & 0.672 & 32 & 1\\\\\n",
       "\t 1 &  89 & 66 & 23 & 94 & 28.1 & 0.167 & 21 & 0\\\\\n",
       "\t 5 & 116 & 74 & NA & NA & 25.6 & 0.201 & 30 & 0\\\\\n",
       "\t 3 &  78 & 50 & 32 & 88 & 31.0 & 0.248 & 26 & 1\\\\\n",
       "\\end{tabular}\n"
      ],
      "text/markdown": [
       "\n",
       "A tibble: 6 × 9\n",
       "\n",
       "| Pregnancies &lt;dbl&gt; | Glucose &lt;dbl&gt; | BloodPressure &lt;dbl&gt; | SkinThickness &lt;dbl&gt; | Insulin &lt;dbl&gt; | BMI &lt;dbl&gt; | DiabetesPedigreeFunction &lt;dbl&gt; | Age &lt;dbl&gt; | Outcome &lt;fct&gt; |\n",
       "|---|---|---|---|---|---|---|---|---|\n",
       "| 6 | 148 | 72 | 35 | NA | 33.6 | 0.627 | 50 | 1 |\n",
       "| 1 |  85 | 66 | 29 | NA | 26.6 | 0.351 | 31 | 0 |\n",
       "| 8 | 183 | 64 | NA | NA | 23.3 | 0.672 | 32 | 1 |\n",
       "| 1 |  89 | 66 | 23 | 94 | 28.1 | 0.167 | 21 | 0 |\n",
       "| 5 | 116 | 74 | NA | NA | 25.6 | 0.201 | 30 | 0 |\n",
       "| 3 |  78 | 50 | 32 | 88 | 31.0 | 0.248 | 26 | 1 |\n",
       "\n"
      ],
      "text/plain": [
       "  Pregnancies Glucose BloodPressure SkinThickness Insulin BMI \n",
       "1 6           148     72            35            NA      33.6\n",
       "2 1            85     66            29            NA      26.6\n",
       "3 8           183     64            NA            NA      23.3\n",
       "4 1            89     66            23            94      28.1\n",
       "5 5           116     74            NA            NA      25.6\n",
       "6 3            78     50            32            88      31.0\n",
       "  DiabetesPedigreeFunction Age Outcome\n",
       "1 0.627                    50  1      \n",
       "2 0.351                    31  0      \n",
       "3 0.672                    32  1      \n",
       "4 0.167                    21  0      \n",
       "5 0.201                    30  0      \n",
       "6 0.248                    26  1      "
      ]
     },
     "metadata": {},
     "output_type": "display_data"
    },
    {
     "data": {
      "text/html": [
       "657"
      ],
      "text/latex": [
       "657"
      ],
      "text/markdown": [
       "657"
      ],
      "text/plain": [
       "[1] 657"
      ]
     },
     "metadata": {},
     "output_type": "display_data"
    }
   ],
   "source": [
    "diabetes_data <- diabetes_data |>\n",
    "    mutate(Outcome = as_factor(Outcome)) |>\n",
    "    filter(Pregnancies!=0)\n",
    "\n",
    "diabetes_data_processed <- diabetes_data |>\n",
    "    mutate(\n",
    "        Glucose=ifelse(Glucose==0,NA,Glucose),\n",
    "        BloodPressure=ifelse(BloodPressure==0,NA,BloodPressure),\n",
    "        SkinThickness=ifelse(SkinThickness==0,NA,SkinThickness),\n",
    "        Insulin=ifelse(Insulin==0,NA,Insulin),\n",
    "        BMI=ifelse(BMI==0,NA,BMI),\n",
    "        DiabetesPedigreeFunction=ifelse(DiabetesPedigreeFunction==0,NA,DiabetesPedigreeFunction))\n",
    "head(diabetes_data_processed)\n",
    "\n",
    "nrow(diabetes_data)"
   ]
  },
  {
   "cell_type": "code",
   "execution_count": null,
   "id": "6ec03f89",
   "metadata": {},
   "outputs": [],
   "source": [
    "set.seed(1400)\n",
    "\n",
    "diabetes_split <- initial_split(diabetes_data, prop = 0.76, strata = Outcome)\n",
    "diabetes_train <- training(diabetes_split)\n",
    "diabetes_test <- testing(diabetes_split)"
   ]
  },
  {
   "cell_type": "code",
   "execution_count": null,
   "id": "81a61520",
   "metadata": {},
   "outputs": [],
   "source": [
    "diabetes_train |>\n",
    "    group_by(Outcome) |>\n",
    "    summarize(count = n())"
   ]
  },
  {
   "cell_type": "code",
   "execution_count": null,
   "id": "c1ec23e0",
   "metadata": {},
   "outputs": [],
   "source": [
    "options(repr.plot.width = 15, repr.plot.height = 8)\n",
    "\n",
    "BMIGlucose_plot <- ggplot(diabetes_train, aes(x = BMI, y = Glucose, color = Outcome)) +\n",
    "  geom_point(alpha = 0.6) +\n",
    "  labs(x = \"BMI (kg/m^2)\", \n",
    "       y = \"Glucose Levels (mg/dL)\",\n",
    "       color = \"Diagnosis\") +\n",
    "ggtitle(\"BMI vs. Glucose plot\") +\n",
    "theme(text = element_text(size = 15))\n",
    "\n",
    "BMIBloodpressure_plot <- ggplot(diabetes_train, aes(x = BMI, y = BloodPressure, color = Outcome)) +\n",
    "  geom_point(alpha = 0.6) +\n",
    "  labs(x = \"BMI (kg/m^2)\", \n",
    "       y = \"Blood Pressure (mmHg)\",\n",
    "       color = \"Diagnosis\") +\n",
    "ggtitle(\"BMI vs. blood pressure plot\") +\n",
    "theme(text = element_text(size = 15))\n",
    "\n",
    "BloodpressureGlucose_plot <- ggplot(diabetes_train, aes(x = BloodPressure, y = Glucose, color = Outcome)) +\n",
    "  geom_point(alpha = 0.6) +\n",
    "  labs(x = \"Blood Pressure (mmHg)\", \n",
    "       y = \"Glucose (mg/dL)\",\n",
    "       color = \"Diagnosis\") +\n",
    "ggtitle(\"Blood pressure vs. Glucose plot\") +\n",
    "theme(text = element_text(size = 15))\n",
    "\n",
    "grid.arrange(BMIGlucose_plot, BMIBloodpressure_plot, BloodpressureGlucose_plot,\n",
    "             layout_matrix = rbind(c(1, 2, 3),\n",
    "                                   c(1, 2, 3)))"
   ]
  },
  {
   "cell_type": "code",
   "execution_count": null,
   "id": "a7199580",
   "metadata": {},
   "outputs": [],
   "source": [
    "diabetes_recipe <- recipe(Outcome ~ BMI + Glucose, data = diabetes_train) |>\n",
    "    step_scale(all_predictors()) |>\n",
    "    step_center(all_predictors())\n",
    "diabetes_recipe"
   ]
  },
  {
   "cell_type": "code",
   "execution_count": null,
   "id": "996c99ac",
   "metadata": {},
   "outputs": [],
   "source": [
    "knn_tune <- nearest_neighbor(weight_func = \"rectangular\", neighbors = tune()) |>\n",
    "    set_engine(\"kknn\") |>\n",
    "    set_mode(\"classification\")\n",
    "\n",
    "k_vals <- tibble(neighbors = seq(from = 1, to = 50, by = 1)) \n",
    "\n",
    "diabetes_vfold <- vfold_cv(data = diabetes_train, v = 5, strata = Outcome)\n",
    "\n",
    "knn_results <- workflow() |>\n",
    "    add_recipe(diabetes_recipe) |>\n",
    "    add_model(knn_tune) |>\n",
    "    tune_grid(resamples = diabetes_vfold, grid = k_vals) |>\n",
    "    collect_metrics()\n",
    "\n",
    "accuracies <- knn_results |>\n",
    "    filter(.metric == \"accuracy\")\n",
    "\n",
    "accuracies_vs_k_plot <- ggplot(accuracies, aes(x=neighbors, y=mean)) +\n",
    "    geom_point() +\n",
    "    geom_line() +\n",
    "    labs(x=\"Neighbours\", y=\"Accuracy Estimate\")\n",
    "accuracies_vs_k_plot"
   ]
  },
  {
   "cell_type": "markdown",
   "id": "04df26da",
   "metadata": {},
   "source": [
    "As seen from the plot, we should use K = 25 because its accuracy estimate is the highest. This K will be used in building our final, most accurate model for classification. "
   ]
  },
  {
   "cell_type": "code",
   "execution_count": null,
   "id": "1b63a055",
   "metadata": {},
   "outputs": [],
   "source": [
    "diabetes_spec <- nearest_neighbor(weight_func = \"rectangular\", neighbors = 25) |>\n",
    "    set_engine(\"kknn\") |>\n",
    "    set_mode(\"classification\")\n",
    "diabetes_spec\n",
    "\n",
    "diabetes_fit <- workflow() |>\n",
    "    add_recipe(diabetes_recipe) |>\n",
    "    add_model(diabetes_spec) |>\n",
    "    fit(data = diabetes_train)\n",
    "diabetes_fit"
   ]
  },
  {
   "cell_type": "code",
   "execution_count": null,
   "id": "64dffd0e-dd1d-4567-a2ec-50d6bf301020",
   "metadata": {},
   "outputs": [],
   "source": [
    "diabetes_test_predictions <- predict(diabetes_fit, diabetes_test) |>\n",
    "    bind_cols(diabetes_test)\n",
    "diabetes_test_predictions"
   ]
  },
  {
   "cell_type": "code",
   "execution_count": null,
   "id": "7bb72f23-6df6-46bb-9c1b-121c55901da8",
   "metadata": {},
   "outputs": [],
   "source": [
    "diabetes_test_predictions |>\n",
    "    metrics(truth = Outcome, estimate = .pred_class) |>\n",
    "    filter(.metric == \"accuracy\")"
   ]
  },
  {
   "cell_type": "markdown",
   "id": "eff985b3-28c9-46f8-b2f4-f4b58fdd57e6",
   "metadata": {},
   "source": [
    "From this, it can be seen that the accuracy of our classification model on the testing dataset is 72.3%. Future ways this classification model can be improved include..."
   ]
  },
  {
   "cell_type": "markdown",
   "id": "e5d80d7f-b168-4dc9-ab4e-413c72ab0756",
   "metadata": {},
   "source": [
    "Next, this classification system will be applied to a makeshift scenario where an individual has a BMI of 32.2 and glucose level of 150. The following is the code to classify whether this person has diabetes or not."
   ]
  },
  {
   "cell_type": "code",
   "execution_count": null,
   "id": "e626c0b4-1e7a-4d8f-a905-55134b1e3bc2",
   "metadata": {},
   "outputs": [],
   "source": [
    "new_obs <- tibble(BMI = 32.2, Glucose = 150)\n",
    "new_obs_prediction <- predict(diabetes_fit, new_obs)\n",
    "new_obs_prediction"
   ]
  },
  {
   "cell_type": "markdown",
   "id": "81beee2f-6546-4d00-a5d3-54c5f3babd12",
   "metadata": {},
   "source": [
    "Therefore, this classification model produces \"1\", meaning that this person is predicted to have diabetes. This is in line with our predictions as a person with low BMI but high glucose levels would be at high risk of diabetes..."
   ]
  },
  {
   "cell_type": "markdown",
   "id": "69c1172f",
   "metadata": {},
   "source": [
    "### Methods: ###"
   ]
  },
  {
   "cell_type": "code",
   "execution_count": null,
   "id": "1707e4a7",
   "metadata": {},
   "outputs": [],
   "source": []
  }
 ],
 "metadata": {
  "kernelspec": {
   "display_name": "R",
   "language": "R",
   "name": "ir"
  },
  "language_info": {
   "codemirror_mode": "r",
   "file_extension": ".r",
   "mimetype": "text/x-r-source",
   "name": "R",
   "pygments_lexer": "r",
   "version": "4.1.3"
  }
 },
 "nbformat": 4,
 "nbformat_minor": 5
}
