{
 "cells": [
  {
   "cell_type": "markdown",
   "id": "93fd35e5-fcc0-415d-a439-60f80a3bada9",
   "metadata": {},
   "source": [
    "project proposal"
   ]
  }
 ],
 "metadata": {
  "kernelspec": {
   "display_name": "",
   "name": ""
  },
  "language_info": {
   "name": ""
  }
 },
 "nbformat": 4,
 "nbformat_minor": 5
}
