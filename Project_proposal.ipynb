{
 "cells": [
  {
   "cell_type": "markdown",
   "id": "93fd35e5-fcc0-415d-a439-60f80a3bada9",
   "metadata": {},
   "source": [
    "# Project Proposal\n",
    "### Group 14\n",
    "By: Angela, Tina, Tom, and Chris"
   ]
  },
  {
   "cell_type": "markdown",
   "id": "49753dbb-7c4c-4ff8-a130-e1fff8096d71",
   "metadata": {},
   "source": [
    "Title: ___"
   ]
  },
  {
   "cell_type": "markdown",
   "id": "061fc773-2e6c-4e5a-a067-2697e33126a4",
   "metadata": {},
   "source": [
    "Introduction:"
   ]
  },
  {
   "cell_type": "markdown",
   "id": "e83c0fd8-0f33-46ec-b3fd-fee142b282a1",
   "metadata": {},
   "source": [
    "Preliminary Exploratory Data Analysis:"
   ]
  },
  {
   "cell_type": "markdown",
   "id": "9fac271b-e930-40ac-b7a6-769ebbc62d9d",
   "metadata": {},
   "source": [
    "Methods:"
   ]
  },
  {
   "cell_type": "markdown",
   "id": "a011abea-8629-4233-95c9-1834b88befb6",
   "metadata": {},
   "source": [
    "Expected Outcomes and Significance:"
   ]
  }
 ],
 "metadata": {
  "kernelspec": {
   "display_name": "R",
   "language": "R",
   "name": "ir"
  },
  "language_info": {
   "codemirror_mode": "r",
   "file_extension": ".r",
   "mimetype": "text/x-r-source",
   "name": "R",
   "pygments_lexer": "r",
   "version": "4.1.3"
  }
 },
 "nbformat": 4,
 "nbformat_minor": 5
}
