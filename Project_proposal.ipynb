{
 "cells": [
  {
   "cell_type": "markdown",
   "id": "93fd35e5-fcc0-415d-a439-60f80a3bada9",
   "metadata": {},
   "source": [
    "project proposal"
   ]
  },
  {
   "cell_type": "markdown",
   "id": "49753dbb-7c4c-4ff8-a130-e1fff8096d71",
   "metadata": {},
   "source": [
    "Title: ___"
   ]
  },
  {
   "cell_type": "code",
   "execution_count": null,
   "id": "267b25e2-d699-4a53-a6eb-24778c71a225",
   "metadata": {},
   "outputs": [],
   "source": []
  }
 ],
 "metadata": {
  "kernelspec": {
   "display_name": "R",
   "language": "R",
   "name": "ir"
  },
  "language_info": {
   "codemirror_mode": "r",
   "file_extension": ".r",
   "mimetype": "text/x-r-source",
   "name": "R",
   "pygments_lexer": "r",
   "version": "4.1.3"
  }
 },
 "nbformat": 4,
 "nbformat_minor": 5
}
